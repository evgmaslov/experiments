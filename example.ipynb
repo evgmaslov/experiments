{
 "cells": [
  {
   "cell_type": "code",
   "execution_count": null,
   "metadata": {},
   "outputs": [],
   "source": [
    "from methods import MLMethod, MLMethodConfig\n",
    "from tasks import MLTaskConfig\n",
    "from nn.data import DataConfig\n",
    "from nn.model.configs import DiffusionConfig\n",
    "from nn.train import TrainerConfig\n",
    "from utils import dict_to_dataclass\n",
    "import json"
   ]
  },
  {
   "cell_type": "code",
   "execution_count": null,
   "metadata": {},
   "outputs": [],
   "source": [
    "data_config_path = \"experiments\\configs\\structure_generation\\data_config.json\"\n",
    "model_config_path = \"experiments\\configs\\structure_generation\\model_config.json\"\n",
    "train_config_path = \"experiments\\configs\\structure_generation\\\\train_config.json\"\n",
    "task_config_path = \"experiments\\configs\\structure_generation\\\\task_config.json\""
   ]
  },
  {
   "cell_type": "code",
   "execution_count": null,
   "metadata": {},
   "outputs": [],
   "source": [
    "with open(data_config_path, \"r\") as fp:\n",
    "    data_config = json.load(fp)\n",
    "with open(model_config_path, \"r\") as fp:\n",
    "    model_config = json.load(fp)\n",
    "with open(train_config_path, \"r\") as fp:\n",
    "    train_config = json.load(fp)\n",
    "with open(task_config_path, \"r\") as fp:\n",
    "    task_config = json.load(fp)"
   ]
  },
  {
   "cell_type": "code",
   "execution_count": null,
   "metadata": {},
   "outputs": [],
   "source": [
    "data_config = dict_to_dataclass(data_config, DataConfig)\n",
    "model_config = dict_to_dataclass(model_config, DiffusionConfig)\n",
    "train_config = dict_to_dataclass(train_config, TrainerConfig)\n",
    "task_config = dict_to_dataclass(task_config, MLTaskConfig)\n",
    "method_config = MLMethodConfig(\n",
    "    task_config=task_config,\n",
    "    data_config=data_config,\n",
    "    model_config=model_config,\n",
    "    train_config=train_config\n",
    ")"
   ]
  },
  {
   "cell_type": "code",
   "execution_count": null,
   "metadata": {},
   "outputs": [],
   "source": [
    "method = MLMethod(method_config)"
   ]
  },
  {
   "cell_type": "code",
   "execution_count": null,
   "metadata": {},
   "outputs": [],
   "source": [
    "method.load_step(\"evgmaslov/diffusion-3d-material\", \"train\", \"hub\")"
   ]
  },
  {
   "cell_type": "code",
   "execution_count": null,
   "metadata": {},
   "outputs": [],
   "source": [
    "method.run_step(\"prepare_data\")"
   ]
  }
 ],
 "metadata": {
  "language_info": {
   "name": "python"
  }
 },
 "nbformat": 4,
 "nbformat_minor": 2
}
